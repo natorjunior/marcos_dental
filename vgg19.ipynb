{
 "cells": [
  {
   "cell_type": "code",
   "execution_count": 1,
   "metadata": {},
   "outputs": [],
   "source": [
    "import pandas as pd\n",
    "import numpy as np\n",
    "import numpy as np\n",
    "import os\n",
    "from tensorflow.keras.applications import VGG19, InceptionV3\n",
    "import matplotlib.pyplot as plt\n",
    "from sklearn.model_selection import train_test_split\n",
    "from tqdm.auto import tqdm\n",
    "from tensorflow.keras.models import Model\n",
    "from tensorflow.keras.layers import Dense, GlobalAveragePooling2D\n",
    "from tensorflow.keras.preprocessing import image\n",
    "from tensorflow.keras.applications.vgg19 import preprocess_input, decode_predictions\n",
    "from tensorflow.keras.utils import to_categorical\n",
    "import numpy as np\n"
   ]
  },
  {
   "cell_type": "code",
   "execution_count": 2,
   "metadata": {},
   "outputs": [
    {
     "name": "stdout",
     "output_type": "stream",
     "text": [
      "Shape of x_train: (92, 512, 512, 3)\n",
      "Shape of x_test: (24, 512, 512, 3)\n",
      "Shape of y_train: (92,)\n",
      "Shape of y_test: (24,)\n"
     ]
    }
   ],
   "source": [
    "path_test_ENDO = 'dados/endo'\n",
    "path_test_OUTRO = 'dados/outros'\n",
    "\n",
    "# Lista de todas as imagens\n",
    "list_img_endo = os.listdir(path_test_ENDO)\n",
    "list_img_outros = os.listdir(path_test_OUTRO)\n",
    "\n",
    "x_data = []\n",
    "y_data = []\n",
    "\n",
    "# Lendo as imagens que tem endo\n",
    "for img_name in list_img_endo:\n",
    "    img_path = os.path.join(path_test_ENDO, img_name)\n",
    "    img = image.load_img(img_path, target_size=(512, 512))\n",
    "    img_array = image.img_to_array(img)\n",
    "    img_array = preprocess_input(img_array)\n",
    "    x_data.append(img_array)\n",
    "    y_data.append(0)  # Rótulo 0 para NORMAL\n",
    "\n",
    "# Lendo as imagens que tem outros\n",
    "for img_name in list_img_outros:\n",
    "    img_path = os.path.join(path_test_OUTRO, img_name)\n",
    "    img = image.load_img(img_path, target_size=(512, 512))\n",
    "    img_array = image.img_to_array(img)\n",
    "    img_array = preprocess_input(img_array)\n",
    "    x_data.append(img_array)\n",
    "    y_data.append(1)  # Rótulo 1 para PNEUMONIA\n",
    "\n",
    "x_data = np.array(x_data)\n",
    "y_data = np.array(y_data)\n",
    "\n",
    "x_train, x_test, y_train, y_test = train_test_split(x_data, y_data, test_size=0.2, random_state=42)\n",
    "\n",
    "print(\"Shape of x_train:\", x_train.shape)\n",
    "print(\"Shape of x_test:\", x_test.shape)\n",
    "print(\"Shape of y_train:\", y_train.shape)\n",
    "print(\"Shape of y_test:\", y_test.shape)\n"
   ]
  },
  {
   "cell_type": "code",
   "execution_count": 3,
   "metadata": {},
   "outputs": [
    {
     "name": "stdout",
     "output_type": "stream",
     "text": [
      "Metal device set to: Apple M1\n",
      "\n",
      "systemMemory: 8.00 GB\n",
      "maxCacheSize: 2.67 GB\n",
      "\n"
     ]
    },
    {
     "name": "stderr",
     "output_type": "stream",
     "text": [
      "2023-12-19 15:42:33.913825: I tensorflow/core/common_runtime/pluggable_device/pluggable_device_factory.cc:305] Could not identify NUMA node of platform GPU ID 0, defaulting to 0. Your kernel may not have been built with NUMA support.\n",
      "2023-12-19 15:42:33.915946: I tensorflow/core/common_runtime/pluggable_device/pluggable_device_factory.cc:271] Created TensorFlow device (/job:localhost/replica:0/task:0/device:GPU:0 with 0 MB memory) -> physical PluggableDevice (device: 0, name: METAL, pci bus id: <undefined>)\n"
     ]
    }
   ],
   "source": [
    "num_classes = 2\n",
    "#VGG19 pré-treinado\n",
    "#VGG19 sem as camadas totalmente conectadas\n",
    "base_model = VGG19(weights='imagenet', include_top=False)\n",
    "\n",
    "#camadas totalmente conectadas para a nova tarefa de classificação\n",
    "x = base_model.output\n",
    "x = GlobalAveragePooling2D()(x)\n",
    "x = Dense(1024, activation='relu')(x)\n",
    "x = Dense(512, activation='relu')(x)\n",
    "x = Dense(256, activation='relu')(x)\n",
    "predictions = Dense(num_classes, activation='softmax')(x)\n",
    "\n",
    "#Novo modelo combinando a base pré-treinada com as camadas personalizadas\n",
    "model = Model(inputs=base_model.input, outputs=predictions)\n",
    "\n",
    "# Congelar as camadas do modelo base\n",
    "for layer in base_model.layers:\n",
    "    layer.trainable = False\n",
    "\n",
    "# Compilar o modelo\n",
    "model.compile(optimizer='adam', loss='categorical_crossentropy', metrics=['accuracy'])"
   ]
  },
  {
   "cell_type": "code",
   "execution_count": 4,
   "metadata": {},
   "outputs": [
    {
     "name": "stdout",
     "output_type": "stream",
     "text": [
      "Epoch 1/10\n"
     ]
    },
    {
     "name": "stderr",
     "output_type": "stream",
     "text": [
      "2023-12-19 15:42:34.908025: W tensorflow/core/platform/profile_utils/cpu_utils.cc:128] Failed to get CPU frequency: 0 Hz\n",
      "2023-12-19 15:42:35.207580: I tensorflow/core/grappler/optimizers/custom_graph_optimizer_registry.cc:113] Plugin optimizer for device_type GPU is enabled.\n"
     ]
    },
    {
     "name": "stdout",
     "output_type": "stream",
     "text": [
      "46/46 [==============================] - ETA: 0s - loss: 1.2790 - accuracy: 0.5109"
     ]
    },
    {
     "name": "stderr",
     "output_type": "stream",
     "text": [
      "2023-12-19 15:42:46.576744: I tensorflow/core/grappler/optimizers/custom_graph_optimizer_registry.cc:113] Plugin optimizer for device_type GPU is enabled.\n"
     ]
    },
    {
     "name": "stdout",
     "output_type": "stream",
     "text": [
      "46/46 [==============================] - 14s 301ms/step - loss: 1.2790 - accuracy: 0.5109 - val_loss: 0.6249 - val_accuracy: 0.7500\n",
      "Epoch 2/10\n",
      "46/46 [==============================] - 14s 302ms/step - loss: 0.7342 - accuracy: 0.5652 - val_loss: 0.6702 - val_accuracy: 0.5833\n",
      "Epoch 3/10\n",
      "46/46 [==============================] - 14s 297ms/step - loss: 0.6239 - accuracy: 0.6848 - val_loss: 0.6572 - val_accuracy: 0.7083\n",
      "Epoch 4/10\n",
      "46/46 [==============================] - 14s 295ms/step - loss: 0.7122 - accuracy: 0.6739 - val_loss: 0.6905 - val_accuracy: 0.5833\n",
      "Epoch 5/10\n",
      "46/46 [==============================] - 14s 301ms/step - loss: 0.6106 - accuracy: 0.6522 - val_loss: 0.5731 - val_accuracy: 0.6667\n",
      "Epoch 6/10\n",
      "46/46 [==============================] - 14s 299ms/step - loss: 0.5141 - accuracy: 0.7935 - val_loss: 0.6271 - val_accuracy: 0.6250\n",
      "Epoch 7/10\n",
      "46/46 [==============================] - 14s 301ms/step - loss: 0.4482 - accuracy: 0.8261 - val_loss: 0.9732 - val_accuracy: 0.6250\n",
      "Epoch 8/10\n",
      "46/46 [==============================] - 14s 312ms/step - loss: 0.4081 - accuracy: 0.8261 - val_loss: 1.1560 - val_accuracy: 0.6250\n",
      "Epoch 9/10\n",
      "46/46 [==============================] - 15s 326ms/step - loss: 0.3300 - accuracy: 0.8696 - val_loss: 0.6656 - val_accuracy: 0.7500\n",
      "Epoch 10/10\n",
      "46/46 [==============================] - 15s 320ms/step - loss: 0.3261 - accuracy: 0.8587 - val_loss: 0.9936 - val_accuracy: 0.7083\n"
     ]
    },
    {
     "name": "stderr",
     "output_type": "stream",
     "text": [
      "2023-12-19 15:44:55.946465: I tensorflow/core/grappler/optimizers/custom_graph_optimizer_registry.cc:113] Plugin optimizer for device_type GPU is enabled.\n"
     ]
    },
    {
     "name": "stdout",
     "output_type": "stream",
     "text": [
      "1/1 [==============================] - 9s 9s/step - loss: 0.9936 - accuracy: 0.7083\n",
      "Acurácia nos dados de teste: 70.83%\n"
     ]
    }
   ],
   "source": [
    "# Tranformando os rótulos em codificação one-hot\n",
    "y_train_one_hot = to_categorical(y_train, num_classes=num_classes)\n",
    "y_test_one_hot = to_categorical(y_test, num_classes=num_classes)\n",
    "\n",
    "# Treinando o modelo\n",
    "model.fit(x_train, y_train_one_hot, epochs=10, batch_size=2, validation_data=(x_test, y_test_one_hot))\n",
    "\n",
    "# Medindo o desempenho do modelo nos dados de teste\n",
    "accuracy = model.evaluate(x_test, y_test_one_hot)[1]\n",
    "print(f'Acurácia nos dados de teste: {accuracy * 100:.2f}%')"
   ]
  },
  {
   "cell_type": "code",
   "execution_count": 5,
   "metadata": {},
   "outputs": [
    {
     "name": "stderr",
     "output_type": "stream",
     "text": [
      "2023-12-19 15:45:05.958467: I tensorflow/core/grappler/optimizers/custom_graph_optimizer_registry.cc:113] Plugin optimizer for device_type GPU is enabled.\n"
     ]
    },
    {
     "name": "stdout",
     "output_type": "stream",
     "text": [
      "1/1 [==============================] - 2s 2s/step\n",
      "Acurácia nos dados de teste: 70.83%\n",
      "Precision: 0.7325\n",
      "Recall: 0.7083\n",
      "F1 Score: 0.6818\n",
      "\n",
      "Matriz de Confusão:\n",
      "[[13  1]\n",
      " [ 6  4]]\n"
     ]
    }
   ],
   "source": [
    "from sklearn.metrics import confusion_matrix, classification_report, accuracy_score, f1_score, precision_score, recall_score\n",
    "import numpy as np\n",
    "from tensorflow.keras.utils import to_categorical\n",
    "from tensorflow.keras.models import Sequential\n",
    "from tensorflow.keras.layers import Dense\n",
    "\n",
    "# Medindo o desempenho do modelo nos dados de teste\n",
    "y_pred = model.predict(x_test)\n",
    "y_pred_classes = np.argmax(y_pred, axis=1)\n",
    "y_true = np.argmax(y_test_one_hot, axis=1)\n",
    "\n",
    "# Métricas\n",
    "accuracy = accuracy_score(y_true, y_pred_classes)\n",
    "precision = precision_score(y_true, y_pred_classes, average='weighted')\n",
    "recall = recall_score(y_true, y_pred_classes, average='weighted')\n",
    "f1 = f1_score(y_true, y_pred_classes, average='weighted')\n",
    "\n",
    "# Matriz de confusão\n",
    "conf_matrix = confusion_matrix(y_true, y_pred_classes)\n",
    "\n",
    "print(f'Acurácia nos dados de teste: {accuracy * 100:.2f}%')\n",
    "print(f'Precision: {precision:.4f}')\n",
    "print(f'Recall: {recall:.4f}')\n",
    "print(f'F1 Score: {f1:.4f}')\n",
    "print('\\nMatriz de Confusão:')\n",
    "print(conf_matrix)\n"
   ]
  },
  {
   "cell_type": "code",
   "execution_count": null,
   "metadata": {},
   "outputs": [],
   "source": []
  }
 ],
 "metadata": {
  "kernelspec": {
   "display_name": "tensorflow",
   "language": "python",
   "name": "python3"
  },
  "language_info": {
   "codemirror_mode": {
    "name": "ipython",
    "version": 3
   },
   "file_extension": ".py",
   "mimetype": "text/x-python",
   "name": "python",
   "nbconvert_exporter": "python",
   "pygments_lexer": "ipython3",
   "version": "3.9.15"
  }
 },
 "nbformat": 4,
 "nbformat_minor": 2
}
